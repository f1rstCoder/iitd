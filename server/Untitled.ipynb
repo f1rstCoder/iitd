{
 "cells": [
  {
   "cell_type": "code",
   "execution_count": 1,
   "id": "c57b532f",
   "metadata": {},
   "outputs": [],
   "source": [
    "from flask import Flask\n",
    "from flask import request\n",
    "import pymysql"
   ]
  },
  {
   "cell_type": "code",
   "execution_count": 11,
   "id": "d54f5f75",
   "metadata": {},
   "outputs": [],
   "source": [
    "def dbConnection():\n",
    "    try:\n",
    "        connection = pymysql.connect(host=\"localhost\", user=\"root\", password=\"root\", database=\"disable\")\n",
    "        return connection\n",
    "    except:\n",
    "        print(\"Something went wrong in database Connection\")\n",
    "\n",
    "def dbClose():\n",
    "    try:\n",
    "        dbConnection().close()\n",
    "    except:\n",
    "        print(\"Something went wrong in Close DB Connection\")\n",
    "\n",
    "con = dbConnection()\n",
    "cursor = con.cursor()\n",
    "\n",
    "username=\"yash\"\n",
    "email=\"yashsalvi1999@gmail.com\""
   ]
  },
  {
   "cell_type": "code",
   "execution_count": 47,
   "id": "917428fe",
   "metadata": {},
   "outputs": [],
   "source": [
    "sql1 = \"UPDATE levelofuser SET matchthefollow = %s WHERE username=%s AND email=%s\"\n",
    "val1 = (5,username,email)\n",
    "cursor.execute(sql1,val1)\n",
    "con.commit()"
   ]
  },
  {
   "cell_type": "code",
   "execution_count": 51,
   "id": "e1b4964e",
   "metadata": {},
   "outputs": [],
   "source": [
    "sql1 = \"UPDATE levelofuser SET fillinblanks = %s WHERE username=%s AND email=%s\"\n",
    "val1 = (2,username,email)\n",
    "cursor.execute(sql1,val1)\n",
    "con.commit()"
   ]
  },
  {
   "cell_type": "code",
   "execution_count": 54,
   "id": "78a384cb",
   "metadata": {},
   "outputs": [],
   "source": [
    "sql1 = \"UPDATE levelofuser SET mcq = %s WHERE username=%s AND email=%s\"\n",
    "val1 = (3,username,email)\n",
    "cursor.execute(sql1,val1)\n",
    "con.commit()"
   ]
  },
  {
   "cell_type": "code",
   "execution_count": 55,
   "id": "9d57e651",
   "metadata": {},
   "outputs": [
    {
     "name": "stdout",
     "output_type": "stream",
     "text": [
      "('Yash', 'yashsalvi1999@gmail.com', 'Level 1', 1, 1, 1, 1, 1, 1, 1, 1, 1, 1, 5, 2, 3)\n",
      "True\n",
      "True\n",
      "True\n",
      "True\n",
      "levelpassed\n"
     ]
    }
   ],
   "source": [
    "cursor.execute('SELECT * FROM levelofuser WHERE username=%s AND email=%s',(\"yash\",\"yashsalvi1999@gmail.com\"))\n",
    "row = cursor.fetchone()\n",
    "\n",
    "print(row)\n",
    "print(0 not in row)\n",
    "print(row[-3] == 5)\n",
    "print(row[-2] == 2)\n",
    "print(row[-1] == 3)\n",
    "\n",
    "if 0 not in row and row[-3] == 5 and row[-2] == 2 and row[-1] == 3:\n",
    "    print(\"levelpassed\")\n",
    "else:                    \n",
    "    print(\"success\")   "
   ]
  },
  {
   "cell_type": "code",
   "execution_count": 61,
   "id": "8745e5ae",
   "metadata": {},
   "outputs": [],
   "source": [
    " level=\"Level 5\""
   ]
  },
  {
   "cell_type": "code",
   "execution_count": 62,
   "id": "0a1bbe2f",
   "metadata": {},
   "outputs": [],
   "source": [
    "sql1 = \"UPDATE levelofuser SET levelofuser=%s,video1=%s,video2=%s,video3=%s,video4=%s,video5=%s,video6=%s,video7=%s,video8=%s,video9=%s,video10=%s,matchthefollow=%s,fillinblanks=%s,mcq=%s WHERE username=%s AND email=%s\"\n",
    "val1 = (\"Level \"+str(int(level.split(\" \")[1])+1),0,0,0,0,0,0,0,0,0,0,0,0,0,username,email)\n",
    "cursor.execute(sql1,val1)\n",
    "con.commit()"
   ]
  },
  {
   "cell_type": "code",
   "execution_count": null,
   "id": "79134f70",
   "metadata": {},
   "outputs": [],
   "source": []
  }
 ],
 "metadata": {
  "kernelspec": {
   "display_name": "Python 3 (ipykernel)",
   "language": "python",
   "name": "python3"
  },
  "language_info": {
   "codemirror_mode": {
    "name": "ipython",
    "version": 3
   },
   "file_extension": ".py",
   "mimetype": "text/x-python",
   "name": "python",
   "nbconvert_exporter": "python",
   "pygments_lexer": "ipython3",
   "version": "3.8.13"
  }
 },
 "nbformat": 4,
 "nbformat_minor": 5
}
